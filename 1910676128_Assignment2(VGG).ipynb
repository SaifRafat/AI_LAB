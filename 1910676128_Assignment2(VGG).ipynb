{
  "nbformat": 4,
  "nbformat_minor": 0,
  "metadata": {
    "colab": {
      "provenance": [],
      "authorship_tag": "ABX9TyOePqmhOy5BzbN6MUzmlDFy",
      "include_colab_link": true
    },
    "kernelspec": {
      "name": "python3",
      "display_name": "Python 3"
    },
    "language_info": {
      "name": "python"
    }
  },
  "cells": [
    {
      "cell_type": "markdown",
      "metadata": {
        "id": "view-in-github",
        "colab_type": "text"
      },
      "source": [
        "<a href=\"https://colab.research.google.com/github/SaifRafat/AI_LAB/blob/main/1910676128_Assignment2(VGG).ipynb\" target=\"_parent\"><img src=\"https://colab.research.google.com/assets/colab-badge.svg\" alt=\"Open In Colab\"/></a>"
      ]
    },
    {
      "cell_type": "markdown",
      "source": [
        "Checking Layers and parametes in pretrained VGG16\n",
        "\n",
        "\n",
        "\n"
      ],
      "metadata": {
        "id": "wLsDt2WFqX3B"
      }
    },
    {
      "cell_type": "code",
      "execution_count": 58,
      "metadata": {
        "colab": {
          "base_uri": "https://localhost:8080/"
        },
        "id": "Lvs0QvvaTScC",
        "outputId": "8c94b4a8-29eb-4768-f091-2238ff479149"
      },
      "outputs": [
        {
          "output_type": "stream",
          "name": "stdout",
          "text": [
            "----------------------------------------------------------------\n",
            "        Layer (type)               Output Shape         Param #\n",
            "================================================================\n",
            "            Conv2d-1         [-1, 64, 224, 224]           1,792\n",
            "              ReLU-2         [-1, 64, 224, 224]               0\n",
            "            Conv2d-3         [-1, 64, 224, 224]          36,928\n",
            "              ReLU-4         [-1, 64, 224, 224]               0\n",
            "         MaxPool2d-5         [-1, 64, 112, 112]               0\n",
            "            Conv2d-6        [-1, 128, 112, 112]          73,856\n",
            "              ReLU-7        [-1, 128, 112, 112]               0\n",
            "            Conv2d-8        [-1, 128, 112, 112]         147,584\n",
            "              ReLU-9        [-1, 128, 112, 112]               0\n",
            "        MaxPool2d-10          [-1, 128, 56, 56]               0\n",
            "           Conv2d-11          [-1, 256, 56, 56]         295,168\n",
            "             ReLU-12          [-1, 256, 56, 56]               0\n",
            "           Conv2d-13          [-1, 256, 56, 56]         590,080\n",
            "             ReLU-14          [-1, 256, 56, 56]               0\n",
            "           Conv2d-15          [-1, 256, 56, 56]         590,080\n",
            "             ReLU-16          [-1, 256, 56, 56]               0\n",
            "        MaxPool2d-17          [-1, 256, 28, 28]               0\n",
            "           Conv2d-18          [-1, 512, 28, 28]       1,180,160\n",
            "             ReLU-19          [-1, 512, 28, 28]               0\n",
            "           Conv2d-20          [-1, 512, 28, 28]       2,359,808\n",
            "             ReLU-21          [-1, 512, 28, 28]               0\n",
            "           Conv2d-22          [-1, 512, 28, 28]       2,359,808\n",
            "             ReLU-23          [-1, 512, 28, 28]               0\n",
            "        MaxPool2d-24          [-1, 512, 14, 14]               0\n",
            "           Conv2d-25          [-1, 512, 14, 14]       2,359,808\n",
            "             ReLU-26          [-1, 512, 14, 14]               0\n",
            "           Conv2d-27          [-1, 512, 14, 14]       2,359,808\n",
            "             ReLU-28          [-1, 512, 14, 14]               0\n",
            "           Conv2d-29          [-1, 512, 14, 14]       2,359,808\n",
            "             ReLU-30          [-1, 512, 14, 14]               0\n",
            "        MaxPool2d-31            [-1, 512, 7, 7]               0\n",
            "AdaptiveAvgPool2d-32            [-1, 512, 7, 7]               0\n",
            "           Linear-33                 [-1, 4096]     102,764,544\n",
            "             ReLU-34                 [-1, 4096]               0\n",
            "          Dropout-35                 [-1, 4096]               0\n",
            "           Linear-36                 [-1, 4096]      16,781,312\n",
            "             ReLU-37                 [-1, 4096]               0\n",
            "          Dropout-38                 [-1, 4096]               0\n",
            "           Linear-39                 [-1, 1000]       4,097,000\n",
            "================================================================\n",
            "Total params: 138,357,544\n",
            "Trainable params: 138,357,544\n",
            "Non-trainable params: 0\n",
            "----------------------------------------------------------------\n",
            "Input size (MB): 0.57\n",
            "Forward/backward pass size (MB): 218.78\n",
            "Params size (MB): 527.79\n",
            "Estimated Total Size (MB): 747.15\n",
            "----------------------------------------------------------------\n"
          ]
        }
      ],
      "source": [
        "from torchvision import models\n",
        "from torchsummary import summary\n",
        "import torch\n",
        "import torch.nn as nn\n",
        "\n",
        "Pre_Vgg = models.vgg16()\n",
        "summary(Pre_Vgg, (3, 224, 224))"
      ]
    },
    {
      "cell_type": "markdown",
      "source": [
        "Checking which layer has weights and biases on pretraine vgg16"
      ],
      "metadata": {
        "id": "EQA07pznIwKT"
      }
    },
    {
      "cell_type": "code",
      "source": [
        "for name,index in Pre_Vgg.named_parameters():\n",
        "  if index.requires_grad:\n",
        "    print(name, index.data)"
      ],
      "metadata": {
        "id": "9pscXhiFrcFF"
      },
      "execution_count": null,
      "outputs": []
    },
    {
      "cell_type": "markdown",
      "source": [
        "Designing the VGG Model"
      ],
      "metadata": {
        "id": "jEkA1emmmNAU"
      }
    },
    {
      "cell_type": "code",
      "source": [
        "class VGG(nn.Module):\n",
        "\n",
        "  def __init__(self, num_of_class = 1000):\n",
        "    super(VGG, self).__init__()\n",
        "    # Taken a Sequential Container to implement sequential layers\n",
        "    self.features = nn.Sequential(\n",
        "        nn.Conv2d(in_channels=3,out_channels=64,kernel_size = 3, padding = 1),\n",
        "        nn.ReLU(),\n",
        "        nn.Conv2d(64,64,kernel_size = 3, padding = 1),\n",
        "        nn.ReLU(),\n",
        "        nn.MaxPool2d(kernel_size=2, stride=2),\n",
        "        nn.Conv2d(64,128,kernel_size = 3, padding = 1),\n",
        "        nn.ReLU(),\n",
        "        nn.Conv2d(128,128,kernel_size = 3, padding = 1),\n",
        "        nn.ReLU(),\n",
        "        nn.MaxPool2d(kernel_size=2, stride=2),\n",
        "        nn.Conv2d(128,256,kernel_size = 3, padding = 1),\n",
        "        nn.ReLU(),\n",
        "        nn.Conv2d(256,256,kernel_size = 3, padding = 1),\n",
        "        nn.ReLU(),\n",
        "        nn.Conv2d(256,256,kernel_size = 3, padding = 1),\n",
        "        nn.ReLU(),\n",
        "        nn.MaxPool2d(kernel_size=2, stride=2),\n",
        "        nn.Conv2d(256,512,kernel_size = 3, padding = 1),\n",
        "        nn.ReLU(),\n",
        "        nn.Conv2d(512,512,kernel_size = 3, padding = 1),\n",
        "        nn.ReLU(),\n",
        "        nn.Conv2d(512,512,kernel_size = 3, padding = 1),\n",
        "        nn.ReLU(),\n",
        "        nn.MaxPool2d(kernel_size=2, stride=2),\n",
        "        nn.Conv2d(512,512,kernel_size = 3, padding = 1),\n",
        "        nn.ReLU(),\n",
        "        nn.Conv2d(512,512,kernel_size = 3, padding = 1),\n",
        "        nn.ReLU(),\n",
        "        nn.Conv2d(512,512,kernel_size = 3, padding = 1),\n",
        "        nn.ReLU(),\n",
        "        nn.MaxPool2d(kernel_size=2, stride=2)\n",
        "        )\n",
        "    self.AVG_pooling = nn.AdaptiveAvgPool2d((7,7))\n",
        "    self.classifiers = nn.Sequential(\n",
        "        nn.Linear(in_features=512 * 7 *7,out_features=4096),\n",
        "        nn.ReLU(),\n",
        "        nn.Dropout(),\n",
        "        nn.Linear(4096,4096),\n",
        "        nn.ReLU(),\n",
        "        nn.Dropout(),\n",
        "        nn.Linear(4096, num_of_class)\n",
        "    )\n",
        "  def forward(self, x):\n",
        "    x = self.features(x)\n",
        "    x = self.AVG_pooling(x)\n",
        "    x = torch.flatten(x,1)\n",
        "    x = self.classifiers(x)\n",
        "    return x\n"
      ],
      "metadata": {
        "id": "WfiPqBU4XIGY"
      },
      "execution_count": 75,
      "outputs": []
    },
    {
      "cell_type": "code",
      "source": [
        "Custom_Vgg = VGG(num_of_class=1000)\n",
        "summary(Custom_Vgg,(3,224,224))"
      ],
      "metadata": {
        "colab": {
          "base_uri": "https://localhost:8080/"
        },
        "id": "a7Q5DU4jmLQ5",
        "outputId": "86f36557-1171-4a21-c17e-eb8626d51f3d"
      },
      "execution_count": 76,
      "outputs": [
        {
          "output_type": "stream",
          "name": "stdout",
          "text": [
            "----------------------------------------------------------------\n",
            "        Layer (type)               Output Shape         Param #\n",
            "================================================================\n",
            "            Conv2d-1         [-1, 64, 224, 224]           1,792\n",
            "              ReLU-2         [-1, 64, 224, 224]               0\n",
            "            Conv2d-3         [-1, 64, 224, 224]          36,928\n",
            "              ReLU-4         [-1, 64, 224, 224]               0\n",
            "         MaxPool2d-5         [-1, 64, 112, 112]               0\n",
            "            Conv2d-6        [-1, 128, 112, 112]          73,856\n",
            "              ReLU-7        [-1, 128, 112, 112]               0\n",
            "            Conv2d-8        [-1, 128, 112, 112]         147,584\n",
            "              ReLU-9        [-1, 128, 112, 112]               0\n",
            "        MaxPool2d-10          [-1, 128, 56, 56]               0\n",
            "           Conv2d-11          [-1, 256, 56, 56]         295,168\n",
            "             ReLU-12          [-1, 256, 56, 56]               0\n",
            "           Conv2d-13          [-1, 256, 56, 56]         590,080\n",
            "             ReLU-14          [-1, 256, 56, 56]               0\n",
            "           Conv2d-15          [-1, 256, 56, 56]         590,080\n",
            "             ReLU-16          [-1, 256, 56, 56]               0\n",
            "        MaxPool2d-17          [-1, 256, 28, 28]               0\n",
            "           Conv2d-18          [-1, 512, 28, 28]       1,180,160\n",
            "             ReLU-19          [-1, 512, 28, 28]               0\n",
            "           Conv2d-20          [-1, 512, 28, 28]       2,359,808\n",
            "             ReLU-21          [-1, 512, 28, 28]               0\n",
            "           Conv2d-22          [-1, 512, 28, 28]       2,359,808\n",
            "             ReLU-23          [-1, 512, 28, 28]               0\n",
            "        MaxPool2d-24          [-1, 512, 14, 14]               0\n",
            "           Conv2d-25          [-1, 512, 14, 14]       2,359,808\n",
            "             ReLU-26          [-1, 512, 14, 14]               0\n",
            "           Conv2d-27          [-1, 512, 14, 14]       2,359,808\n",
            "             ReLU-28          [-1, 512, 14, 14]               0\n",
            "           Conv2d-29          [-1, 512, 14, 14]       2,359,808\n",
            "             ReLU-30          [-1, 512, 14, 14]               0\n",
            "        MaxPool2d-31            [-1, 512, 7, 7]               0\n",
            "AdaptiveAvgPool2d-32            [-1, 512, 7, 7]               0\n",
            "           Linear-33                 [-1, 4096]     102,764,544\n",
            "             ReLU-34                 [-1, 4096]               0\n",
            "          Dropout-35                 [-1, 4096]               0\n",
            "           Linear-36                 [-1, 4096]      16,781,312\n",
            "             ReLU-37                 [-1, 4096]               0\n",
            "          Dropout-38                 [-1, 4096]               0\n",
            "           Linear-39                 [-1, 1000]       4,097,000\n",
            "================================================================\n",
            "Total params: 138,357,544\n",
            "Trainable params: 138,357,544\n",
            "Non-trainable params: 0\n",
            "----------------------------------------------------------------\n",
            "Input size (MB): 0.57\n",
            "Forward/backward pass size (MB): 218.78\n",
            "Params size (MB): 527.79\n",
            "Estimated Total Size (MB): 747.15\n",
            "----------------------------------------------------------------\n"
          ]
        }
      ]
    },
    {
      "cell_type": "markdown",
      "source": [
        "Shifting weights and biases from Pre_Vgg(pretraine model) to Custom_Vgg(custom model)"
      ],
      "metadata": {
        "id": "sw5g3pHVmAZx"
      }
    },
    {
      "cell_type": "code",
      "source": [
        "Custom_Vgg.features.load_state_dict(Pre_Vgg.features.state_dict())\n",
        "Custom_Vgg.classifiers.load_state_dict(Pre_Vgg.classifier.state_dict())\n",
        "\n",
        "for name, index in Custom_Vgg.features.named_parameters():\n",
        "    print(name, index.data)\n",
        "\n",
        "for name, index in Custom_Vgg.classifiers.named_parameters():\n",
        "    print(name, index.data)"
      ],
      "metadata": {
        "id": "Vk9GVBZubPJ-"
      },
      "execution_count": null,
      "outputs": []
    },
    {
      "cell_type": "markdown",
      "source": [
        "Creating another CNN model which is not exactly VGG16"
      ],
      "metadata": {
        "id": "172n-iQumdh_"
      }
    },
    {
      "cell_type": "code",
      "source": [
        "class VGG(nn.Module):\n",
        "\n",
        "  def __init__(self, num_of_class = 10):\n",
        "    super(VGG, self).__init__()\n",
        "    # Taken a Sequential Container to implement sequential layers\n",
        "    self.features = nn.Sequential(\n",
        "        nn.Conv2d(in_channels=3,out_channels=32,kernel_size = 3, padding = 1),\n",
        "        nn.ReLU(),\n",
        "        nn.Conv2d(32,32,kernel_size = 3, padding = 1),\n",
        "        nn.ReLU(),\n",
        "        nn.AvgPool2d(kernel_size=2, stride=2),\n",
        "        nn.Conv2d(32,64,kernel_size = 3, padding = 1),\n",
        "        nn.ReLU(),\n",
        "        nn.Conv2d(64,128,kernel_size = 3, padding = 1),\n",
        "        nn.ReLU(),\n",
        "        nn.Conv2d(128,128,kernel_size = 3, padding = 1),\n",
        "        nn.ReLU(),\n",
        "        nn.AvgPool2d(kernel_size=2, stride=2),\n",
        "        nn.Conv2d(128,128,kernel_size = 3, padding = 1),\n",
        "        nn.ReLU(),\n",
        "        nn.AvgPool2d(kernel_size=2, stride=2),\n",
        "        )\n",
        "    self.AVG_pooling = nn.AdaptiveMaxPool2d((14,14))\n",
        "    self.classifiers = nn.Sequential(\n",
        "        nn.Linear(in_features=128 * 14 *14,out_features=2048),\n",
        "        nn.Tanh(),\n",
        "        nn.Dropout(),\n",
        "        nn.Linear(2048,1024),\n",
        "        nn.Tanh(),\n",
        "        nn.Dropout(),\n",
        "        nn.Linear(1024,1024),\n",
        "        nn.Tanh(),\n",
        "        nn.Dropout(),\n",
        "        nn.Linear(1024, num_of_class)\n",
        "    )\n",
        "  def forward(self, x):\n",
        "    x = self.features(x)\n",
        "    x = self.AVG_pooling(x)\n",
        "    x = torch.flatten(x,1)\n",
        "    x = self.classifiers(x)\n",
        "    return x\n"
      ],
      "metadata": {
        "id": "ZDUcXuJsmc4f"
      },
      "execution_count": 100,
      "outputs": []
    },
    {
      "cell_type": "code",
      "source": [
        "Custom_Vgg01 = VGG(num_of_class=10)\n",
        "summary(Custom_Vgg01,(3,224,224))"
      ],
      "metadata": {
        "colab": {
          "base_uri": "https://localhost:8080/"
        },
        "id": "x4ppjzVIs4ob",
        "outputId": "45e39736-912d-4b83-8ea4-10efffa26cd0"
      },
      "execution_count": 101,
      "outputs": [
        {
          "output_type": "stream",
          "name": "stdout",
          "text": [
            "----------------------------------------------------------------\n",
            "        Layer (type)               Output Shape         Param #\n",
            "================================================================\n",
            "            Conv2d-1         [-1, 32, 224, 224]             896\n",
            "              ReLU-2         [-1, 32, 224, 224]               0\n",
            "            Conv2d-3         [-1, 32, 224, 224]           9,248\n",
            "              ReLU-4         [-1, 32, 224, 224]               0\n",
            "         AvgPool2d-5         [-1, 32, 112, 112]               0\n",
            "            Conv2d-6         [-1, 64, 112, 112]          18,496\n",
            "              ReLU-7         [-1, 64, 112, 112]               0\n",
            "            Conv2d-8        [-1, 128, 112, 112]          73,856\n",
            "              ReLU-9        [-1, 128, 112, 112]               0\n",
            "           Conv2d-10        [-1, 128, 112, 112]         147,584\n",
            "             ReLU-11        [-1, 128, 112, 112]               0\n",
            "        AvgPool2d-12          [-1, 128, 56, 56]               0\n",
            "           Conv2d-13          [-1, 128, 56, 56]         147,584\n",
            "             ReLU-14          [-1, 128, 56, 56]               0\n",
            "        AvgPool2d-15          [-1, 128, 28, 28]               0\n",
            "AdaptiveMaxPool2d-16          [-1, 128, 14, 14]               0\n",
            "           Linear-17                 [-1, 2048]      51,382,272\n",
            "             Tanh-18                 [-1, 2048]               0\n",
            "          Dropout-19                 [-1, 2048]               0\n",
            "           Linear-20                 [-1, 1024]       2,098,176\n",
            "             Tanh-21                 [-1, 1024]               0\n",
            "          Dropout-22                 [-1, 1024]               0\n",
            "           Linear-23                 [-1, 1024]       1,049,600\n",
            "             Tanh-24                 [-1, 1024]               0\n",
            "          Dropout-25                 [-1, 1024]               0\n",
            "           Linear-26                   [-1, 10]          10,250\n",
            "================================================================\n",
            "Total params: 54,937,962\n",
            "Trainable params: 54,937,962\n",
            "Non-trainable params: 0\n",
            "----------------------------------------------------------------\n",
            "Input size (MB): 0.57\n",
            "Forward/backward pass size (MB): 123.55\n",
            "Params size (MB): 209.57\n",
            "Estimated Total Size (MB): 333.70\n",
            "----------------------------------------------------------------\n"
          ]
        }
      ]
    }
  ]
}